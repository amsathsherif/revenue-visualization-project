{
 "cells": [
  {
   "cell_type": "code",
   "execution_count": 3,
   "metadata": {},
   "outputs": [
    {
     "name": "stdout",
     "output_type": "stream",
     "text": [
      "Connection Established\n"
     ]
    }
   ],
   "source": [
    "import psycopg2\n",
    "import streamlit as st\n",
    "\n",
    "# Establish a connection to MySQL Server\n",
    "\n",
    "mydb = psycopg2.connect(\n",
    "     host=\"localhost\",\n",
    "    user=\"postgres\",\n",
    "    password=\"1234\",\n",
    "    database=\"irb_projects\",\n",
    "    port=\"5432\"\n",
    "\n",
    ")\n",
    "mycursor=mydb.cursor()\n",
    "print(\"Connection Established\")"
   ]
  }
 ],
 "metadata": {
  "kernelspec": {
   "display_name": "Python 3",
   "language": "python",
   "name": "python3"
  },
  "language_info": {
   "codemirror_mode": {
    "name": "ipython",
    "version": 3
   },
   "file_extension": ".py",
   "mimetype": "text/x-python",
   "name": "python",
   "nbconvert_exporter": "python",
   "pygments_lexer": "ipython3",
   "version": "3.12.0"
  }
 },
 "nbformat": 4,
 "nbformat_minor": 2
}
